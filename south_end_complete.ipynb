{
 "cells": [
  {
   "cell_type": "markdown",
   "metadata": {},
   "source": [
    "# Keyboard Shortcuts"
   ]
  },
  {
   "cell_type": "markdown",
   "metadata": {},
   "source": [
    "Cell organization mode\n",
    "* `enter` to begin editing a cell\n",
    "* `up` and `down` arrows to move between cells\n",
    "* `D,D` to delete a cell\n",
    "* `M` to change to Markdown\n",
    "* `Y` to change to code\n",
    "* `C` to copy a cell\n",
    "* `V` to paste the cell below\n",
    "* `B` insert cell below\n",
    "* `A` insert cell above\n",
    "\n",
    "Editing mode\n",
    "* `esc` to exit editing the cell\n",
    "* `ctrl+enter` to execute a cell\n",
    "* `alt+enter` to execute a cell and create a new one below\n",
    "* `shift+enter` to execute a cell and move to the next one\n",
    "* `ctrl+/` comment the selected line(s)"
   ]
  },
  {
   "cell_type": "markdown",
   "metadata": {},
   "source": [
    "# Background\n",
    "\n",
    "The census tract for the South End begins just on the SE side of Columbus Avenue, as shown in this map:\n",
    "\n",
    "![Map of the South End](south_end.png)\n",
    "\n",
    "Let's explore the demographics of the South End."
   ]
  },
  {
   "cell_type": "markdown",
   "metadata": {},
   "source": [
    "# Setup"
   ]
  },
  {
   "cell_type": "code",
   "execution_count": null,
   "metadata": {},
   "outputs": [],
   "source": [
    "import pandas as pd\n",
    "import altair as alt\n",
    "from altair import datum\n",
    "\n",
    "alt.renderers.enable('jupyterlab', embed_options={'renderer': 'svg'}) # Included for PDF export\n",
    "\n",
    "# Avoids writing all the data to the notebook or disk. \n",
    "# See https://altair-viz.github.io/user_guide/faq.html#local-data-server\n",
    "# Note that this may not work on some cloud-based Jupyter notebook services.\n",
    "# alt.data_transformers.enable('data_server')"
   ]
  },
  {
   "cell_type": "markdown",
   "metadata": {},
   "source": [
    "# Loading Data"
   ]
  },
  {
   "cell_type": "code",
   "execution_count": null,
   "metadata": {},
   "outputs": [],
   "source": [
    "df = pd.read_csv('south_end.csv')\n",
    "df"
   ]
  },
  {
   "cell_type": "code",
   "execution_count": null,
   "metadata": {},
   "outputs": [],
   "source": [
    "pd.set_option('display.max_rows', None) # 60 is the default\n",
    "df[['Category', 'Subcategory']]"
   ]
  },
  {
   "cell_type": "code",
   "execution_count": null,
   "metadata": {},
   "outputs": [],
   "source": [
    "df[['Category', 'Subcategory']].drop_duplicates()"
   ]
  },
  {
   "cell_type": "markdown",
   "metadata": {},
   "source": [
    "# Creating Visualizations"
   ]
  },
  {
   "cell_type": "markdown",
   "metadata": {},
   "source": [
    "## Age Distribution by Decade"
   ]
  },
  {
   "cell_type": "code",
   "execution_count": null,
   "metadata": {},
   "outputs": [],
   "source": [
    "alt.Chart(df).mark_bar().encode(\n",
    "    x='Decade:O'\n",
    ")"
   ]
  },
  {
   "cell_type": "code",
   "execution_count": null,
   "metadata": {},
   "outputs": [],
   "source": [
    "alt.Chart(df).mark_bar().encode(\n",
    "    x = 'Decade:O',\n",
    "    y = 'Count:Q'\n",
    ")"
   ]
  },
  {
   "cell_type": "code",
   "execution_count": null,
   "metadata": {},
   "outputs": [],
   "source": [
    "alt.Chart(df).mark_bar().encode(\n",
    "    x = 'Decade:O',\n",
    "    y = 'Count:Q',\n",
    "    color = 'Subcategory:N'\n",
    ")"
   ]
  },
  {
   "cell_type": "code",
   "execution_count": null,
   "metadata": {},
   "outputs": [],
   "source": [
    "alt.Chart(df).mark_bar().encode(\n",
    "    x = 'Decade:O',\n",
    "    y = 'Count:Q',\n",
    "    color = 'Subcategory:N'\n",
    ").transform_filter(\n",
    "    datum['Category'] == 'Age'\n",
    ")"
   ]
  },
  {
   "cell_type": "code",
   "execution_count": null,
   "metadata": {},
   "outputs": [],
   "source": [
    "alt.Chart(df).mark_bar().encode(\n",
    "    x = 'Decade:O',\n",
    "    y = 'Count:Q',\n",
    "    color = 'Subcategory:N'\n",
    ").transform_filter(\n",
    "    datum['Category'] == 'Age'\n",
    ").properties(\n",
    "    title = 'Age Distribution by Decade'\n",
    ")"
   ]
  },
  {
   "cell_type": "code",
   "execution_count": null,
   "metadata": {},
   "outputs": [],
   "source": [
    "alt.Chart(df).mark_bar().encode(\n",
    "    x = 'Decade:O',\n",
    "    y = 'Count:Q',\n",
    "    color = alt.Color('Subcategory:N', title = 'Age Range')\n",
    ").transform_filter(\n",
    "    datum['Category'] == 'Age'\n",
    ").properties(\n",
    "    title = 'Age Distribution by Decade'\n",
    ")"
   ]
  },
  {
   "cell_type": "code",
   "execution_count": null,
   "metadata": {},
   "outputs": [],
   "source": [
    "alt.Chart(df).mark_bar().encode(\n",
    "    x = 'Decade:O',\n",
    "    y = 'Count:Q',\n",
    "    color = alt.Color('Subcategory:N', title = 'Age Range', sort = 'descending'),\n",
    "    order = alt.Order(\n",
    "        'Subcategory:N',\n",
    "        sort = 'ascending'\n",
    "    )\n",
    ").transform_filter(\n",
    "    datum['Category'] == 'Age'\n",
    ").properties(\n",
    "    title = 'Age Distribution by Decade'\n",
    ")"
   ]
  },
  {
   "cell_type": "code",
   "execution_count": null,
   "metadata": {},
   "outputs": [],
   "source": [
    "alt.Chart(df).mark_line().encode(\n",
    "    x = 'Decade:O',\n",
    "    y = 'Count:Q',\n",
    "    color = alt.Color('Subcategory:N', title = 'Age Range', sort = 'descending'),\n",
    "    order = alt.Order(\n",
    "        'Subcategory:N',\n",
    "        sort = 'ascending'\n",
    "    )\n",
    ").transform_filter(\n",
    "    datum['Category'] == 'Age'\n",
    ").properties(\n",
    "    title = 'Age Distribution by Decade'\n",
    ")"
   ]
  },
  {
   "cell_type": "code",
   "execution_count": null,
   "metadata": {},
   "outputs": [],
   "source": [
    "alt.Chart(df).mark_area().encode(\n",
    "    x = 'Decade:O',\n",
    "    y = 'Count:Q',\n",
    "    color = alt.Color('Subcategory:N', title = 'Age Range', sort = 'descending'),\n",
    "    order = alt.Order(\n",
    "        'Subcategory:N',\n",
    "        sort = 'ascending'\n",
    "    )\n",
    ").transform_filter(\n",
    "    datum['Category'] == 'Age'\n",
    ").properties(\n",
    "    title = 'Age Distribution by Decade'\n",
    ")"
   ]
  },
  {
   "cell_type": "markdown",
   "metadata": {},
   "source": [
    "## Educational Attainment by Decade"
   ]
  },
  {
   "cell_type": "code",
   "execution_count": null,
   "metadata": {},
   "outputs": [],
   "source": [
    "eduField = 'Educational Attainment (age 25+)'"
   ]
  },
  {
   "cell_type": "code",
   "execution_count": null,
   "metadata": {},
   "outputs": [],
   "source": [
    "alt.Chart(df).mark_bar().encode(\n",
    "    x = 'Decade:O',\n",
    "    y = 'Count:Q',\n",
    "    color = alt.Color('Subcategory:N', title = eduField, sort = 'descending'),\n",
    "    order = alt.Order(\n",
    "        'Subcategory:N',\n",
    "        sort = 'descending'\n",
    "    )\n",
    ").transform_filter(\n",
    "    datum['Category'] == eduField\n",
    ").properties(\n",
    "    title = 'Educational Attainment Distribution by Decade'\n",
    ")"
   ]
  },
  {
   "cell_type": "code",
   "execution_count": null,
   "metadata": {},
   "outputs": [],
   "source": [
    "eduSortOrder = [\n",
    "        \"Bachelor's Degree or Higher\",\n",
    "        \"Some College or Associate's Degree\",\n",
    "        'High School or GED',\n",
    "        'less than High School'\n",
    "        ]"
   ]
  },
  {
   "cell_type": "code",
   "execution_count": null,
   "metadata": {},
   "outputs": [],
   "source": [
    "alt.Chart(df).mark_bar().encode(\n",
    "    x = 'Decade:O',\n",
    "    y = 'Count:Q',\n",
    "    color = alt.Color('Subcategory:N', title = eduField, sort = eduSortOrder),\n",
    ").transform_filter(\n",
    "    datum['Category'] == eduField\n",
    ").properties(\n",
    "    title = 'Educational Attainment Distribution by Decade'\n",
    ")"
   ]
  },
  {
   "cell_type": "code",
   "execution_count": null,
   "metadata": {},
   "outputs": [],
   "source": [
    "alt.Chart(df).mark_bar().encode(\n",
    "    x = 'Decade:O',\n",
    "    y = 'Count:Q',\n",
    "    color = alt.Color('Subcategory:N', title = eduField, sort = eduSortOrder),\n",
    "    order = alt.Order(\n",
    "        'eduOrdering:N',\n",
    "        sort = 'ascending'\n",
    "    )\n",
    ").transform_filter(\n",
    "    datum['Category'] == eduField\n",
    ").transform_calculate(\n",
    "    eduOrdering = '0'\n",
    ").properties(\n",
    "    title = 'Educational Attainment Distribution by Decade'\n",
    ")"
   ]
  },
  {
   "cell_type": "code",
   "execution_count": null,
   "metadata": {},
   "outputs": [],
   "source": [
    "alt.Chart(df).mark_bar().encode(\n",
    "    x = 'Decade:O',\n",
    "    y = 'Count:Q',\n",
    "    color = alt.Color('Subcategory:N', title = eduField, sort = eduSortOrder),\n",
    "    column = alt.Column('Subcategory:N', title = eduField, sort = eduSortOrder),\n",
    ").transform_filter(\n",
    "    datum['Category'] == eduField\n",
    ").properties(\n",
    "    title = 'Educational Attainment Distribution by Decade'\n",
    ")"
   ]
  },
  {
   "cell_type": "code",
   "execution_count": null,
   "metadata": {},
   "outputs": [],
   "source": [
    "alt.Chart(df).mark_bar().encode(\n",
    "    x = 'Decade:O',\n",
    "    y = 'Count:Q',\n",
    "    color = alt.Color('Subcategory:N', title = eduField, sort = eduSortOrder),\n",
    "    column = alt.Column('Subcategory:N', title = eduField, sort = eduSortOrder[::-1]), # ::-1 makes a copy in reverse order\n",
    ").transform_filter(\n",
    "    datum['Category'] == eduField\n",
    ").properties(\n",
    "    title = 'Educational Attainment Distribution by Decade'\n",
    ")"
   ]
  },
  {
   "cell_type": "markdown",
   "metadata": {},
   "source": [
    "## Race by Decade"
   ]
  },
  {
   "cell_type": "code",
   "execution_count": null,
   "metadata": {},
   "outputs": [],
   "source": [
    "alt.Chart(df).mark_bar().encode(\n",
    "    x = 'Decade:O',\n",
    "    y = 'Count:Q',\n",
    "    color = alt.Color('Subcategory:N', title = 'Race'),\n",
    ").transform_filter(\n",
    "    datum['Category'] == 'Race/ Ethnicity'\n",
    ").properties(\n",
    "    title = 'Race Distribution by Decade'\n",
    ")"
   ]
  },
  {
   "cell_type": "code",
   "execution_count": null,
   "metadata": {},
   "outputs": [],
   "source": [
    "chart_race = alt.Chart(df).mark_bar().encode(\n",
    "    x = 'Decade:O',\n",
    "    y = 'Count:Q',\n",
    "    color = alt.Color('Subcategory:N', title = 'Race'),\n",
    ").transform_filter(\n",
    "    datum['Category'] == 'Race/ Ethnicity'\n",
    ").properties(\n",
    "    title = 'Race Distribution by Decade'\n",
    ")\n",
    "chart_race"
   ]
  },
  {
   "cell_type": "markdown",
   "metadata": {},
   "source": [
    "## Types of Occupancy by Decade"
   ]
  },
  {
   "cell_type": "code",
   "execution_count": null,
   "metadata": {},
   "outputs": [],
   "source": [
    "alt.Chart(df).mark_bar().encode(\n",
    "    x = 'Decade:O',\n",
    "    y = alt.Y('Count:Q', stack = 'normalize', title = 'Occupancy Split'),\n",
    "    color = alt.Color('Subcategory:N', title = 'Type of Occupancy'),\n",
    ").transform_filter(\n",
    "    (datum['Category'] == 'Housing Tenure') &\n",
    "    (datum['Subcategory'] != 'Occupied Housing Units')\n",
    ").properties(\n",
    "    title = 'Types of Occupancy Distribution by Decade'\n",
    ")"
   ]
  },
  {
   "cell_type": "code",
   "execution_count": null,
   "metadata": {},
   "outputs": [],
   "source": [
    "chart_occupancy = alt.Chart(df).mark_bar().encode(\n",
    "    x = 'Decade:O',\n",
    "    y = alt.Y('Count:Q', stack = 'normalize', title = 'Occupancy Split'),\n",
    "    color = alt.Color('Subcategory:N', title = 'Type of Occupancy'),\n",
    ").transform_filter(\n",
    "    (datum['Category'] == 'Housing Tenure') &\n",
    "    (datum['Subcategory'] != 'Occupied Housing Units')\n",
    ").properties(\n",
    "    title = 'Types of Occupancy Distribution by Decade'\n",
    ")\n",
    "chart_occupancy"
   ]
  },
  {
   "cell_type": "markdown",
   "metadata": {},
   "source": [
    "# Saving Your Results"
   ]
  },
  {
   "cell_type": "markdown",
   "metadata": {},
   "source": [
    "## Saving to a web page..."
   ]
  },
  {
   "cell_type": "code",
   "execution_count": null,
   "metadata": {},
   "outputs": [],
   "source": [
    "chart_occupancy.save('chart_occupancy.html', embed_options={'renderer':'svg'})"
   ]
  },
  {
   "cell_type": "markdown",
   "metadata": {},
   "source": [
    "## Saving an SVG, PNG, Vega Editor..."
   ]
  },
  {
   "cell_type": "markdown",
   "metadata": {},
   "source": [
    "**Note:** You do not need to do the following steps yourself. The instructor will simply demonstrate what is possible."
   ]
  },
  {
   "cell_type": "markdown",
   "metadata": {},
   "source": [
    "Let's save the chart from above using the ... menu at the top-right in several different formats.\n",
    "\n",
    "Here is an example infographic you could create by exporting an SVG and editing in Illustrator:\n",
    "\n",
    "![South End Occupancy Infographic](south_end_occupancy_infographic.png)\n",
    "\n",
    "In Illustrator:\n",
    "* Open the SVG.\n",
    "* Use the magic wand tool to select the owner series & the legend.\n",
    "* Edit->Edit Colors->Saturate and reduce saturation.\n",
    "* Add the `apartment_building.svg` and scale to ~20% using Object->Transform->Scale\n",
    "* Select and edit the text at the top to \"Decreasing Renter-Occupied South End Dwellings\"\n",
    "* File->Export As->SVG"
   ]
  }
 ],
 "metadata": {
  "kernelspec": {
   "display_name": "Python 3 (ipykernel)",
   "language": "python",
   "name": "python3"
  },
  "language_info": {
   "codemirror_mode": {
    "name": "ipython",
    "version": 3
   },
   "file_extension": ".py",
   "mimetype": "text/x-python",
   "name": "python",
   "nbconvert_exporter": "python",
   "pygments_lexer": "ipython3",
   "version": "3.9.6"
  }
 },
 "nbformat": 4,
 "nbformat_minor": 4
}
